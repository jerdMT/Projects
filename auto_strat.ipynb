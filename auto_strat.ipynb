{
 "cells": [
  {
   "cell_type": "markdown",
   "id": "17afbc93-80a2-484a-a84a-ae3271fa0e76",
   "metadata": {},
   "source": [
    "# ALPACA 9EMA "
   ]
  },
  {
   "cell_type": "code",
   "execution_count": 1,
   "id": "e09929a4-3c35-48d2-b3f1-0a4f71069a60",
   "metadata": {},
   "outputs": [
    {
     "name": "stdout",
     "output_type": "stream",
     "text": [
      "{'id': '34298cc2-b99a-41c1-935e-0380ec07fc28', 'client_order_id': 'e03c93cc-f7ec-4069-bffe-a978fa003244', 'created_at': '2021-11-04T17:16:04.903303Z', 'updated_at': '2021-11-04T17:16:04.903303Z', 'submitted_at': '2021-11-04T17:16:04.897866Z', 'filled_at': None, 'expired_at': None, 'canceled_at': None, 'failed_at': None, 'replaced_at': None, 'replaced_by': None, 'replaces': None, 'asset_id': 'b0b6dd9d-8b9b-48a9-ba46-b9d54906e415', 'symbol': 'AAPL', 'asset_class': 'us_equity', 'notional': None, 'qty': '3', 'filled_qty': '0', 'filled_avg_price': None, 'order_class': '', 'order_type': 'market', 'type': 'market', 'side': 'buy', 'time_in_force': 'gtc', 'limit_price': None, 'stop_price': None, 'status': 'accepted', 'extended_hours': False, 'legs': None, 'trail_percent': None, 'trail_price': None, 'hwm': None}\n"
     ]
    }
   ],
   "source": [
    "import requests, json\n",
    "from config import *\n",
    "\n",
    "BASE_URL = \"https://paper-api.alpaca.markets\"\n",
    "ACCOUNT_URL = \"{}/v2/account\".format(BASE_URL)\n",
    "ORDERS_URL = \"{}/v2/orders\".format(BASE_URL)\n",
    "HEADERS = {'APCA-API-KEY-ID':API_KEY, 'APCA-API-SECRET-KEY':SECRET_KEY}\n",
    "\n",
    "\n",
    "def get_account():\n",
    "    r = requests.get(ACCOUNT_URL, headers=HEADERS)\n",
    "    \n",
    "    return json.loads(r.content)\n",
    "                     \n",
    "def create_order(symbol, qty, side, type, time_in_force):\n",
    "    data = {\n",
    "        \"symbol\":symbol,\n",
    "        \"qty\":qty,\n",
    "        \"side\":side,\n",
    "        \"type\":type ,\n",
    "        \"time_in_force\":time_in_force\n",
    "      \n",
    "    }      \n",
    "    r = requests.post(ORDERS_URL, json=data, headers=HEADERS)\n",
    "     \n",
    "    return json.loads(r.content)\n",
    "\n",
    "def get_orders():\n",
    "     r = requests.get(ORDERS_URL,headers=HEADERS)\n",
    "                     \n",
    "     return json.loads(r.content)   \n",
    "                     \n",
    "                     \n",
    "                     \n",
    "#response = create_order(\"AAPL\", 3, \"buy\", \"market\",\"gtc\")\n",
    "#print(response)\n",
    "                     \n",
    "wss://stream.data.alpaca.markets/v2/{source}    \n",
    "\n",
    "\n",
    "\n",
    "orders = get_orders()"
   ]
  },
  {
   "cell_type": "code",
   "execution_count": null,
   "id": "e7b3b322-f41a-46ec-90d2-37ca887b8b7e",
   "metadata": {},
   "outputs": [],
   "source": []
  }
 ],
 "metadata": {
  "kernelspec": {
   "display_name": "Python 3",
   "language": "python",
   "name": "python3"
  },
  "language_info": {
   "codemirror_mode": {
    "name": "ipython",
    "version": 3
   },
   "file_extension": ".py",
   "mimetype": "text/x-python",
   "name": "python",
   "nbconvert_exporter": "python",
   "pygments_lexer": "ipython3",
   "version": "3.8.8"
  }
 },
 "nbformat": 4,
 "nbformat_minor": 5
}
