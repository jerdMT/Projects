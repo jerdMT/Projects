{
 "cells": [
  {
   "cell_type": "markdown",
   "id": "b7e7b6b4-08b9-4cdc-88f1-e3701a9fe3ee",
   "metadata": {},
   "source": [
    "# RNN for classifying clade "
   ]
  },
  {
   "cell_type": "code",
   "execution_count": null,
   "id": "8ff88f37-ab8c-40c9-a6dd-09991d57e86b",
   "metadata": {},
   "outputs": [],
   "source": [
    "import numpy as np\n",
    "import pandas as pd\n",
    "import matplotlib.pyplot as plt\n",
    "import math\n",
    "import torch\n",
    "import torch.nn as nn\n",
    "import torch.nn.functional as F \n",
    "import torch.optim as optim\n",
    "from torch.utils.data import Dataset, DataLoader\n",
    "from torch.autograd import Variable \n",
    "\n",
    "torch.manual_seed(123)\n",
    "\n",
    "k=28\n",
    "\n",
    "data = pd.read_csv (\"/Users/jarodw/Documents/pathogenetic-potential/DATA.csv\")\n",
    "\n",
    "df = pd.DataFrame(data, columns = ['strain', 'seq', 'clade'])\n",
    "\n",
    "clades = pd.unique(df['clade'])\n",
    "print(clades)\n",
    "\n",
    "clade_count = df[\"clade\"].value_counts()\n",
    "clade_count.plot(kind='barh')"
   ]
  },
  {
   "cell_type": "markdown",
   "id": "f26adfb3-82fa-4690-875c-cafc0be2f3b1",
   "metadata": {},
   "source": [
    "# K-Mer Sequence"
   ]
  },
  {
   "cell_type": "code",
   "execution_count": null,
   "id": "05a69add-dadb-4f81-ac94-e7af987db574",
   "metadata": {},
   "outputs": [],
   "source": [
    "def Kmers_funct(seq, size):\n",
    "    return [seq[x:x+size].lower() for x in range(len(seq) - size + 1)]\n",
    "\n",
    "sentences = []\n",
    "for j in range(len(df)) :\n",
    "    sequence = str(df.loc[j, \"seq\"])\n",
    "    sentence = ' '.join(Kmers_funct(sequence, size=k))\n",
    "    sentences.append(sentence)\n",
    "    \n",
    "    \n",
    "df['sentence'] = sentences    \n",
    "    \n",
    "from sklearn.feature_extraction.text import CountVectorizer\n",
    "cv = CountVectorizer(ngram_range=(28,28))\n",
    "\n",
    "print(df.head())\n",
    "\n",
    "X = cv.fit_transform(sentences)\n",
    "\n",
    "print('Shape of data:', X.shape)\n",
    "\n",
    "Y = pd.get_dummies(df['clade']).values"
   ]
  },
  {
   "cell_type": "code",
   "execution_count": null,
   "id": "ddcbcbc7-7de9-412a-a6d5-d142206fc950",
   "metadata": {},
   "outputs": [],
   "source": [
    "from sklearn.model_selection import train_test_split\n",
    "X_train, X_test, y_train, y_test = train_test_split(X,Y,test_size = 0.20,random_state=42)\n",
    "\n",
    "y_train_tensors = Variable(torch.Tensor(y_train))\n",
    "y_test_tensors = Variable(torch.Tensor(y_test))\n",
    "\n",
    "\n",
    "X_train_tensor = torch.from_numpy(X_train.todense()).float()\n",
    "X_train_tensor_final = torch.reshape(X_train_tensor,   (X_train_tensor.shape[0], 1, X_train_tensor.shape[1]))\n",
    "X_test_tensor = torch.from_numpy(X_test.todense()).float()\n",
    "Y_train_tensor = torch.from_numpy(np.array(y_train))\n",
    "Y_train_tensor = Y_train_tensor.to(torch.float32)\n",
    "\n",
    "Y_test_tensor = torch.from_numpy(np.array(y_test))\n",
    "Y_test_tensor = Y_test_tensor.to(torch.float32)\n",
    "\n",
    "print(X_train_tensor.size())\n",
    "print(X_train_tensor_final.size())\n",
    "print(Y_train_tensor.size())\n",
    "print(Y_train_tensor)"
   ]
  },
  {
   "cell_type": "code",
   "execution_count": null,
   "id": "d8da85c1-41b0-41e5-ae41-0fcfe44cfeb2",
   "metadata": {},
   "outputs": [],
   "source": [
    "#Set device\n",
    "device = torch.device('cuda' if torch.cuda.is_available() else 'cpu')\n",
    "\n",
    "class LSTM1(nn.Module):\n",
    "    def __init__(self, num_classes, input_size, hidden_size, num_layers, seq_length):\n",
    "        super(LSTM1, self).__init__()\n",
    "        self.num_classes = num_classes #number of classes\n",
    "        self.num_layers = num_layers #number of layers\n",
    "        self.input_size = input_size #input size\n",
    "        self.hidden_size = hidden_size #hidden state\n",
    "        self.seq_length = seq_length #sequence length\n",
    "\n",
    "        self.lstm = nn.LSTM(input_size=input_size, hidden_size=hidden_size,\n",
    "                          num_layers=num_layers, batch_first=True) #lstm\n",
    "        self.fc_1 =  nn.Linear(hidden_size, 128) #fully connected 1\n",
    "        self.fc = nn.Linear(128, num_classes) #fully connected last layer\n",
    "       \n",
    "\n",
    "        self.relu = nn.ReLU()\n",
    "        \n",
    "    \n",
    "    def forward(self,x):\n",
    "        h_0 = Variable(torch.zeros(self.num_layers, x.size(0), self.hidden_size)) #hidden state\n",
    "        c_0 = Variable(torch.zeros(self.num_layers, x.size(0), self.hidden_size)) #internal state\n",
    "        # Propagate input through LSTM\n",
    "        output, (hn, cn) = self.lstm(x, (h_0, c_0)) #lstm with input, hidden, and internal state\n",
    "        hn = hn.view(-1, self.hidden_size) #reshaping the data for Dense layer next\n",
    "        out = self.relu(hn)\n",
    "        out = self.fc_1(out) #first Dense\n",
    "        out = self.relu(out) #relu\n",
    "        out = self.fc(out) \n",
    "         #Final Output\n",
    "        return out"
   ]
  },
  {
   "cell_type": "code",
   "execution_count": null,
   "id": "2bcebcf5-959b-4ff1-832a-f5ba4d72a917",
   "metadata": {},
   "outputs": [],
   "source": [
    "num_epochs = 100 #1000 epochs\n",
    "learning_rate = 0.001 #0.001 lr\n",
    "\n",
    "input_size = 1048857 #number of features\n",
    "hidden_size = 2 #number of features in hidden state\n",
    "num_layers = 1 #number of stacked lstm layers\n",
    "\n",
    "num_classes = 10 #number of output classes\n",
    " \n",
    "lstm1 = LSTM1(num_classes, input_size, hidden_size, num_layers, X_train_tensor_final.shape[1]) #our lstm class "
   ]
  },
  {
   "cell_type": "code",
   "execution_count": null,
   "id": "0438b64a-b44c-4b16-85ab-a808a3eabc66",
   "metadata": {},
   "outputs": [],
   "source": [
    "criterion = torch.nn.CrossEntropyLoss()   # cross entropy for categorical response\n",
    "optimizer = torch.optim.Adam(lstm1.parameters(), lr=learning_rate) \n"
   ]
  },
  {
   "cell_type": "code",
   "execution_count": null,
   "id": "262b3ca5-9816-4016-8b5a-e07906c0121f",
   "metadata": {},
   "outputs": [],
   "source": [
    "for epoch in range(num_epochs):\n",
    "  outputs = lstm1.forward(X_train_tensor_final) #forward pass\n",
    "  optimizer.zero_grad() #caluclate the gradient, manually setting to 0\n",
    " \n",
    "  # obtain the loss function\n",
    "  loss = criterion(outputs, Y_train_tensor)\n",
    " \n",
    "  loss.backward() #calculates the loss of the loss function\n",
    " \n",
    "  optimizer.step() #improve from loss, i.e backprop\n",
    "  if epoch % 1 == 0:\n",
    "    print(\"Epoch: %d, loss: %1.5f\" % (epoch, loss.item())) "
   ]
  },
  {
   "cell_type": "code",
   "execution_count": null,
   "id": "765021cb-cff3-4cb4-8527-ac365b46c2db",
   "metadata": {},
   "outputs": [],
   "source": []
  },
  {
   "cell_type": "code",
   "execution_count": null,
   "id": "1908918e-2cf9-4126-affc-c7154275eb48",
   "metadata": {},
   "outputs": [],
   "source": []
  }
 ],
 "metadata": {
  "kernelspec": {
   "display_name": "Python 3",
   "language": "python",
   "name": "python3"
  },
  "language_info": {
   "codemirror_mode": {
    "name": "ipython",
    "version": 3
   },
   "file_extension": ".py",
   "mimetype": "text/x-python",
   "name": "python",
   "nbconvert_exporter": "python",
   "pygments_lexer": "ipython3",
   "version": "3.8.8"
  }
 },
 "nbformat": 4,
 "nbformat_minor": 5
}
